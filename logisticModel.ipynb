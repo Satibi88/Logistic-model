{
 "cells": [
  {
   "cell_type": "code",
   "execution_count": 1,
   "metadata": {},
   "outputs": [],
   "source": [
    "# This Python 3 environment comes with many helpful analytics libraries installed\n",
    "# It is defined by the kaggle/python docker image: https://github.com/kaggle/docker-python\n",
    "# For example, here's several helpful packages to load in \n",
    "\n",
    "import numpy as np # linear algebra\n",
    "import pandas as pd # data processing, CSV file I/O (e.g. pd.read_csv)\n",
    "\n",
    "# Input data files are available in the \"../input/\" directory.\n",
    "# For example, running this (by clicking run or pressing Shift+Enter) will list all files under the input directory\n",
    "\n",
    "import os\n",
    "for dirname, _, filenames in os.walk('/kaggle/input'):\n",
    "    for filename in filenames:\n",
    "        print(os.path.join(dirname, filename))\n",
    "\n",
    "# Any results you write to the current directory are saved as output.\n",
    "import pandas as pd\n",
    "import numpy as np\n",
    "import ipykernel\n",
    "from datetime import datetime,timedelta\n",
    "from sklearn.metrics import mean_squared_error\n",
    "from scipy.optimize import curve_fit\n",
    "from scipy.optimize import fsolve\n",
    "import matplotlib.pyplot as plt\n",
    "%matplotlib inline"
   ]
  },
  {
   "cell_type": "code",
   "execution_count": 2,
   "metadata": {},
   "outputs": [],
   "source": [
    "df=pd.read_csv('C:/Users/ASUS/Belajar/Untitled Folder/confirmed_acc.csv')"
   ]
  },
  {
   "cell_type": "code",
   "execution_count": 3,
   "metadata": {},
   "outputs": [],
   "source": [
    "df = df.loc[:,['date','cases']]\n",
    "FMT = '%m/%d/%Y'\n",
    "date = df['date']\n",
    "df['date'] = date.map(lambda x : (datetime.strptime(x, FMT) - datetime.strptime(\"3/1/2020\", FMT)).days  )"
   ]
  },
  {
   "cell_type": "code",
   "execution_count": 4,
   "metadata": {},
   "outputs": [
    {
     "data": {
      "text/html": [
       "<div>\n",
       "<style scoped>\n",
       "    .dataframe tbody tr th:only-of-type {\n",
       "        vertical-align: middle;\n",
       "    }\n",
       "\n",
       "    .dataframe tbody tr th {\n",
       "        vertical-align: top;\n",
       "    }\n",
       "\n",
       "    .dataframe thead th {\n",
       "        text-align: right;\n",
       "    }\n",
       "</style>\n",
       "<table border=\"1\" class=\"dataframe\">\n",
       "  <thead>\n",
       "    <tr style=\"text-align: right;\">\n",
       "      <th></th>\n",
       "      <th>date</th>\n",
       "      <th>cases</th>\n",
       "    </tr>\n",
       "  </thead>\n",
       "  <tbody>\n",
       "    <tr>\n",
       "      <th>0</th>\n",
       "      <td>-39</td>\n",
       "      <td>0</td>\n",
       "    </tr>\n",
       "    <tr>\n",
       "      <th>1</th>\n",
       "      <td>-38</td>\n",
       "      <td>0</td>\n",
       "    </tr>\n",
       "    <tr>\n",
       "      <th>2</th>\n",
       "      <td>-37</td>\n",
       "      <td>0</td>\n",
       "    </tr>\n",
       "    <tr>\n",
       "      <th>3</th>\n",
       "      <td>-36</td>\n",
       "      <td>0</td>\n",
       "    </tr>\n",
       "    <tr>\n",
       "      <th>4</th>\n",
       "      <td>-35</td>\n",
       "      <td>0</td>\n",
       "    </tr>\n",
       "    <tr>\n",
       "      <th>...</th>\n",
       "      <td>...</td>\n",
       "      <td>...</td>\n",
       "    </tr>\n",
       "    <tr>\n",
       "      <th>65</th>\n",
       "      <td>26</td>\n",
       "      <td>1046</td>\n",
       "    </tr>\n",
       "    <tr>\n",
       "      <th>66</th>\n",
       "      <td>27</td>\n",
       "      <td>1155</td>\n",
       "    </tr>\n",
       "    <tr>\n",
       "      <th>67</th>\n",
       "      <td>28</td>\n",
       "      <td>1285</td>\n",
       "    </tr>\n",
       "    <tr>\n",
       "      <th>68</th>\n",
       "      <td>29</td>\n",
       "      <td>1414</td>\n",
       "    </tr>\n",
       "    <tr>\n",
       "      <th>69</th>\n",
       "      <td>30</td>\n",
       "      <td>1528</td>\n",
       "    </tr>\n",
       "  </tbody>\n",
       "</table>\n",
       "<p>70 rows × 2 columns</p>\n",
       "</div>"
      ],
      "text/plain": [
       "    date  cases\n",
       "0    -39      0\n",
       "1    -38      0\n",
       "2    -37      0\n",
       "3    -36      0\n",
       "4    -35      0\n",
       "..   ...    ...\n",
       "65    26   1046\n",
       "66    27   1155\n",
       "67    28   1285\n",
       "68    29   1414\n",
       "69    30   1528\n",
       "\n",
       "[70 rows x 2 columns]"
      ]
     },
     "execution_count": 4,
     "metadata": {},
     "output_type": "execute_result"
    }
   ],
   "source": [
    "df"
   ]
  },
  {
   "cell_type": "code",
   "execution_count": 5,
   "metadata": {},
   "outputs": [],
   "source": [
    "df=df.append({'date' : 31, 'cases' : 1677}, ignore_index=True) #1 April\n",
    "df=df.append({'date' : 32, 'cases' : 1790}, ignore_index=True) #2 April\n",
    "df=df.append({'date' : 33, 'cases' : 1986}, ignore_index=True) #3 April\n",
    "df=df.append({'date' : 34, 'cases' : 2092}, ignore_index=True) #4 April\n",
    "df=df.append({'date' : 35, 'cases' : 2273}, ignore_index=True) #5 April\n",
    "df=df.append({'date' : 36, 'cases' : 2491}, ignore_index=True) #6 April\n",
    "df=df.append({'date' : 37, 'cases' : 2738}, ignore_index=True) #7 April\n",
    "df=df.append({'date' : 38, 'cases' : 2956}, ignore_index=True) #8 April\n",
    "df=df.append({'date' : 39, 'cases' : 3293}, ignore_index=True) #9 April\n",
    "df=df.append({'date' : 40, 'cases' : 3512}, ignore_index=True) #10 April"
   ]
  },
  {
   "cell_type": "code",
   "execution_count": 6,
   "metadata": {},
   "outputs": [],
   "source": [
    "def logistic_model(x,a,b,c):\n",
    "    return c/(1+np.exp(-(x-b)/a))"
   ]
  },
  {
   "cell_type": "code",
   "execution_count": 54,
   "metadata": {},
   "outputs": [],
   "source": [
    "x = list(df.iloc[39:,0])\n",
    "y = list(df.iloc[39:,1])\n",
    "fit = curve_fit(logistic_model,x,y)\n"
   ]
  },
  {
   "cell_type": "code",
   "execution_count": 55,
   "metadata": {},
   "outputs": [
    {
     "data": {
      "text/plain": [
       "(array([   6.8444749 ,   36.88249714, 5549.14247619]),\n",
       " array([[8.90333388e-02, 3.06141483e-01, 1.20176618e+02],\n",
       "        [3.06141483e-01, 1.20863101e+00, 4.82250636e+02],\n",
       "        [1.20176618e+02, 4.82250636e+02, 1.94711434e+05]]))"
      ]
     },
     "execution_count": 55,
     "metadata": {},
     "output_type": "execute_result"
    }
   ],
   "source": [
    "fit"
   ]
  },
  {
   "cell_type": "code",
   "execution_count": 67,
   "metadata": {},
   "outputs": [
    {
     "data": {
      "text/plain": [
       "array([   6.8444749 ,   36.88249714, 5549.14247619])"
      ]
     },
     "execution_count": 67,
     "metadata": {},
     "output_type": "execute_result"
    }
   ],
   "source": [
    "A,B=fit\n",
    "A"
   ]
  },
  {
   "cell_type": "code",
   "execution_count": 57,
   "metadata": {},
   "outputs": [
    {
     "data": {
      "text/plain": [
       "[0.29838454856337115, 1.0993775563116106, 441.26118601831496]"
      ]
     },
     "execution_count": 57,
     "metadata": {},
     "output_type": "execute_result"
    }
   ],
   "source": [
    "errors = [np.sqrt(fit[1][i][i]) for i in [0,1,2]]\n",
    "errors"
   ]
  },
  {
   "cell_type": "code",
   "execution_count": 58,
   "metadata": {},
   "outputs": [],
   "source": [
    "#Kemungkinan terburuk\n",
    "a=A[0]+errors[0]\n",
    "b=A[1]+errors[1]\n",
    "c=A[2]+errors[2]\n"
   ]
  },
  {
   "cell_type": "code",
   "execution_count": 70,
   "metadata": {},
   "outputs": [
    {
     "data": {
      "text/plain": [
       "7.142859451875531"
      ]
     },
     "execution_count": 70,
     "metadata": {},
     "output_type": "execute_result"
    }
   ],
   "source": [
    "a"
   ]
  },
  {
   "cell_type": "code",
   "execution_count": 59,
   "metadata": {},
   "outputs": [
    {
     "data": {
      "text/plain": [
       "106"
      ]
     },
     "execution_count": 59,
     "metadata": {},
     "output_type": "execute_result"
    }
   ],
   "source": [
    "#Jumlah hari maksimal dari 1 Maret 2020\n",
    "sol = int(fsolve(lambda x : logistic_model (x,a,b,c) - int(c),b))\n",
    "sol"
   ]
  },
  {
   "cell_type": "code",
   "execution_count": 60,
   "metadata": {},
   "outputs": [],
   "source": [
    "def exponential_model(x,a,b,c):\n",
    "    return a*np.exp(b*(x-c))\n",
    "exp_fit = curve_fit(exponential_model,x,y,p0=[1,1,1])"
   ]
  },
  {
   "cell_type": "code",
   "execution_count": 61,
   "metadata": {},
   "outputs": [
    {
     "data": {
      "image/png": "[encoded data removed]",
      "text/plain": [
       "<Figure size 504x504 with 1 Axes>"
      ]
     },
     "metadata": {
      "needs_background": "light"
     },
     "output_type": "display_data"
    }
   ],
   "source": [
    "pred_x = list(range(max(x),sol))\n",
    "plt.rcParams['figure.figsize'] = [7, 7]\n",
    "plt.rc('font', size=14)# Real data\n",
    "plt.scatter(x,y,label=\"Real data\",color=\"red\")\n",
    "\n",
    "# Predicted logistic curve\n",
    "plt.plot(x+pred_x, [logistic_model(i,a,b,c) for i in x+pred_x], label=\"Logistic model\" )\n",
    "\n",
    "\n",
    "plt.legend()\n",
    "plt.xlabel(\"Days since 1 March 2020\")\n",
    "plt.ylabel(\"Total number of infected people\")\n",
    "plt.ylim((min(y)*0.9,c*1.1))\n",
    "plt.show()"
   ]
  },
  {
   "cell_type": "code",
   "execution_count": 62,
   "metadata": {},
   "outputs": [
    {
     "name": "stdout",
     "output_type": "stream",
     "text": [
      "R^2 adalah 0.9956633258695817\n",
      "Mean square errornya adalah 4611.917228951483\n"
     ]
    }
   ],
   "source": [
    "y_pred_logistic = [logistic_model(i,a,b,c) for i in x]\n",
    "p=mean_squared_error(y,y_pred_logistic)\n",
    "y_pred_exp =  [exponential_model(i,exp_fit[0][0], exp_fit[0][1], exp_fit[0][2]) for i in x]\n",
    "\n",
    "\n",
    "s1=(np.subtract(y,y_pred_logistic)**2).sum()\n",
    "s2=(np.subtract(y,np.mean(y))**2).sum()\n",
    "r=1-s1/s2\n",
    "print(\"R^2 adalah {}\".format(r))\n",
    "print(\"Mean square errornya adalah {}\".format(p))"
   ]
  },
  {
   "cell_type": "code",
   "execution_count": 63,
   "metadata": {},
   "outputs": [
    {
     "name": "stdout",
     "output_type": "stream",
     "text": [
      "Mean square errornya adalah 14328.67557253473\n"
     ]
    }
   ],
   "source": [
    "q=mean_squared_error(y,y_pred_exp)\n",
    "print(\"Mean square errornya adalah {}\".format(q))"
   ]
  },
  {
   "cell_type": "code",
   "execution_count": 64,
   "metadata": {},
   "outputs": [],
   "source": [
    "### Tanggal wabah maksimal\n",
    "from datetime import timedelta, date\n",
    "from datetime import datetime  \n",
    "from datetime import timedelta \n",
    "\n",
    "start_date = \"01/03/20\"\n",
    "\n",
    "date_1 = datetime.strptime(start_date, \"%d/%m/%y\")\n",
    "\n",
    "end_date = date_1 + timedelta(days=sol)\n",
    "\n",
    "x=end_date.strftime(\"%d %B %Y\")"
   ]
  },
  {
   "cell_type": "code",
   "execution_count": 65,
   "metadata": {},
   "outputs": [
    {
     "name": "stdout",
     "output_type": "stream",
     "text": [
      "Jumlah kasus maksimal di indonesia menurut prediksi adalah 5990.403662\n",
      "Wabah akan berakhir 106 hari setelah 1 Maret 2020 atau 15 June 2020\n"
     ]
    }
   ],
   "source": [
    "print(\"Jumlah kasus maksimal di indonesia menurut prediksi adalah {:f}\".format(A[2]+errors[2])) #Penambahan dengan error\n",
    "print(\"Wabah akan berakhir {:.0f} hari setelah 1 Maret 2020 atau {}\". format(sol,x))"
   ]
  },
  {
   "cell_type": "code",
   "execution_count": null,
   "metadata": {},
   "outputs": [],
   "source": []
  }
 ],
 "metadata": {
  "kernelspec": {
   "display_name": "Python 3",
   "language": "python",
   "name": "python3"
  },
  "language_info": {
   "codemirror_mode": {
    "name": "ipython",
    "version": 3
   },
   "file_extension": ".py",
   "mimetype": "text/x-python",
   "name": "python",
   "nbconvert_exporter": "python",
   "pygments_lexer": "ipython3",
   "version": "3.7.7"
  }
 },
 "nbformat": 4,
 "nbformat_minor": 2
}
